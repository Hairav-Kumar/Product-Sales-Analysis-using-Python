{
 "cells": [
  {
   "cell_type": "markdown",
   "id": "c78e70c7-5b63-4642-80a9-3deb0bea6c4d",
   "metadata": {},
   "source": [
    "# Product Sales Analysis"
   ]
  },
  {
   "cell_type": "markdown",
   "id": "7d4ac325-0324-41ca-b257-6dd7caf6e06f",
   "metadata": {},
   "source": [
    "# Project Overview\n",
    "This project focuses on analyzing customer purchasing trends and behaviors to provide valuable insights into sales patterns. The client is particularly interested in customer segmentation and their chip purchasing behavior to optimize marketing strategies and inventory management.\n",
    "\n",
    "# Objectives\n",
    "Understand customer purchasing trends.\n",
    "Identify key customer segments.\n",
    "Analyze chip purchasing behavior.\n",
    "Provide actionable insights based on sales data."
   ]
  },
  {
   "cell_type": "code",
   "execution_count": 2,
   "id": "a1361378-a783-4e27-aa06-78a21869063c",
   "metadata": {},
   "outputs": [],
   "source": [
    "import pandas as pd\n",
    "import numpy as np\n",
    "import matplotlib.pyplot as plt"
   ]
  },
  {
   "cell_type": "code",
   "execution_count": 4,
   "id": "6ab34897-7464-4a7a-ac73-951aaf220a46",
   "metadata": {},
   "outputs": [
    {
     "data": {
      "text/html": [
       "<div>\n",
       "<style scoped>\n",
       "    .dataframe tbody tr th:only-of-type {\n",
       "        vertical-align: middle;\n",
       "    }\n",
       "\n",
       "    .dataframe tbody tr th {\n",
       "        vertical-align: top;\n",
       "    }\n",
       "\n",
       "    .dataframe thead th {\n",
       "        text-align: right;\n",
       "    }\n",
       "</style>\n",
       "<table border=\"1\" class=\"dataframe\">\n",
       "  <thead>\n",
       "    <tr style=\"text-align: right;\">\n",
       "      <th></th>\n",
       "      <th>DATE</th>\n",
       "      <th>STORE_NBR</th>\n",
       "      <th>LYLTY_CARD_NBR</th>\n",
       "      <th>TXN_ID</th>\n",
       "      <th>PROD_NBR</th>\n",
       "      <th>PROD_NAME</th>\n",
       "      <th>PROD_QTY</th>\n",
       "      <th>TOT_SALES</th>\n",
       "    </tr>\n",
       "  </thead>\n",
       "  <tbody>\n",
       "    <tr>\n",
       "      <th>0</th>\n",
       "      <td>2018-10-17</td>\n",
       "      <td>1</td>\n",
       "      <td>1000</td>\n",
       "      <td>1</td>\n",
       "      <td>5</td>\n",
       "      <td>Natural Chip        Compny SeaSalt175g</td>\n",
       "      <td>2</td>\n",
       "      <td>6.0</td>\n",
       "    </tr>\n",
       "    <tr>\n",
       "      <th>1</th>\n",
       "      <td>2019-05-14</td>\n",
       "      <td>1</td>\n",
       "      <td>1307</td>\n",
       "      <td>348</td>\n",
       "      <td>66</td>\n",
       "      <td>CCs Nacho Cheese    175g</td>\n",
       "      <td>3</td>\n",
       "      <td>6.3</td>\n",
       "    </tr>\n",
       "  </tbody>\n",
       "</table>\n",
       "</div>"
      ],
      "text/plain": [
       "        DATE  STORE_NBR  LYLTY_CARD_NBR  TXN_ID  PROD_NBR  \\\n",
       "0 2018-10-17          1            1000       1         5   \n",
       "1 2019-05-14          1            1307     348        66   \n",
       "\n",
       "                                PROD_NAME  PROD_QTY  TOT_SALES  \n",
       "0  Natural Chip        Compny SeaSalt175g         2        6.0  \n",
       "1                CCs Nacho Cheese    175g         3        6.3  "
      ]
     },
     "execution_count": 4,
     "metadata": {},
     "output_type": "execute_result"
    }
   ],
   "source": [
    "df_transaction = pd.read_excel(\"C:/Users/Hairav/Downloads/QVI_transaction_data.xlsx\")\n",
    "df_transaction.head(2)"
   ]
  },
  {
   "cell_type": "code",
   "execution_count": 137,
   "id": "481ba8f7-ddc3-48e4-9d65-1c18695951e6",
   "metadata": {},
   "outputs": [
    {
     "data": {
      "text/html": [
       "<div>\n",
       "<style scoped>\n",
       "    .dataframe tbody tr th:only-of-type {\n",
       "        vertical-align: middle;\n",
       "    }\n",
       "\n",
       "    .dataframe tbody tr th {\n",
       "        vertical-align: top;\n",
       "    }\n",
       "\n",
       "    .dataframe thead th {\n",
       "        text-align: right;\n",
       "    }\n",
       "</style>\n",
       "<table border=\"1\" class=\"dataframe\">\n",
       "  <thead>\n",
       "    <tr style=\"text-align: right;\">\n",
       "      <th></th>\n",
       "      <th>LYLTY_CARD_NBR</th>\n",
       "      <th>LIFESTAGE</th>\n",
       "      <th>PREMIUM_CUSTOMER</th>\n",
       "    </tr>\n",
       "  </thead>\n",
       "  <tbody>\n",
       "    <tr>\n",
       "      <th>0</th>\n",
       "      <td>1000</td>\n",
       "      <td>YOUNG SINGLES/COUPLES</td>\n",
       "      <td>Premium</td>\n",
       "    </tr>\n",
       "    <tr>\n",
       "      <th>1</th>\n",
       "      <td>1002</td>\n",
       "      <td>YOUNG SINGLES/COUPLES</td>\n",
       "      <td>Mainstream</td>\n",
       "    </tr>\n",
       "  </tbody>\n",
       "</table>\n",
       "</div>"
      ],
      "text/plain": [
       "   LYLTY_CARD_NBR              LIFESTAGE PREMIUM_CUSTOMER\n",
       "0            1000  YOUNG SINGLES/COUPLES          Premium\n",
       "1            1002  YOUNG SINGLES/COUPLES       Mainstream"
      ]
     },
     "execution_count": 137,
     "metadata": {},
     "output_type": "execute_result"
    }
   ],
   "source": [
    "df_purchase= pd.read_csv(\"C:/Users/Hairav/Downloads/QVI_purchase_behaviour.csv\")\n",
    "df_purchase.head(2)"
   ]
  },
  {
   "cell_type": "markdown",
   "id": "6346645f-a325-458a-976a-c9eb079a3527",
   "metadata": {},
   "source": [
    "# Data Exploration"
   ]
  },
  {
   "cell_type": "markdown",
   "id": "e56ff429-2794-4073-a642-4d4e280e542b",
   "metadata": {},
   "source": [
    "Transaction Table"
   ]
  },
  {
   "cell_type": "code",
   "execution_count": 138,
   "id": "bc411c71-46d8-4d65-afb1-6292bd41f3a7",
   "metadata": {},
   "outputs": [
    {
     "data": {
      "text/plain": [
       "(264397, 11)"
      ]
     },
     "execution_count": 138,
     "metadata": {},
     "output_type": "execute_result"
    }
   ],
   "source": [
    "df_transaction.shape"
   ]
  },
  {
   "cell_type": "code",
   "execution_count": 139,
   "id": "9ebd68bf-4c7b-4575-bbfb-349a830d8bf5",
   "metadata": {},
   "outputs": [
    {
     "data": {
      "text/plain": [
       "DATE              0\n",
       "STORE_NBR         0\n",
       "LYLTY_CARD_NBR    0\n",
       "TXN_ID            0\n",
       "PROD_NBR          0\n",
       "PROD_NAME         0\n",
       "PROD_QTY          0\n",
       "TOT_SALES         0\n",
       "FINAL_SALES       0\n",
       "year              0\n",
       "month             0\n",
       "dtype: int64"
      ]
     },
     "execution_count": 139,
     "metadata": {},
     "output_type": "execute_result"
    }
   ],
   "source": [
    "# Checking Null Values\n",
    "df_transaction.isnull().sum()"
   ]
  },
  {
   "cell_type": "code",
   "execution_count": 140,
   "id": "5d7b004b-f04a-4273-a61e-7e23d096f90b",
   "metadata": {},
   "outputs": [
    {
     "data": {
      "text/plain": [
       "Index(['DATE', 'STORE_NBR', 'LYLTY_CARD_NBR', 'TXN_ID', 'PROD_NBR',\n",
       "       'PROD_NAME', 'PROD_QTY', 'TOT_SALES', 'FINAL_SALES', 'year', 'month'],\n",
       "      dtype='object')"
      ]
     },
     "execution_count": 140,
     "metadata": {},
     "output_type": "execute_result"
    }
   ],
   "source": [
    "df_transaction.columns"
   ]
  },
  {
   "cell_type": "code",
   "execution_count": 141,
   "id": "4c1774d7-eb37-4eb3-ad5c-53a889caebb4",
   "metadata": {},
   "outputs": [
    {
     "name": "stdout",
     "output_type": "stream",
     "text": [
      "<class 'pandas.core.frame.DataFrame'>\n",
      "Index: 264397 entries, 0 to 264835\n",
      "Data columns (total 11 columns):\n",
      " #   Column          Non-Null Count   Dtype         \n",
      "---  ------          --------------   -----         \n",
      " 0   DATE            264397 non-null  datetime64[ns]\n",
      " 1   STORE_NBR       264397 non-null  int64         \n",
      " 2   LYLTY_CARD_NBR  264397 non-null  int64         \n",
      " 3   TXN_ID          264397 non-null  int64         \n",
      " 4   PROD_NBR        264397 non-null  int64         \n",
      " 5   PROD_NAME       264397 non-null  object        \n",
      " 6   PROD_QTY        264397 non-null  int64         \n",
      " 7   TOT_SALES       264397 non-null  float64       \n",
      " 8   FINAL_SALES     264397 non-null  float64       \n",
      " 9   year            264397 non-null  int32         \n",
      " 10  month           264397 non-null  int32         \n",
      "dtypes: datetime64[ns](1), float64(2), int32(2), int64(5), object(1)\n",
      "memory usage: 22.2+ MB\n"
     ]
    }
   ],
   "source": [
    "df_transaction.info()"
   ]
  },
  {
   "cell_type": "code",
   "execution_count": 142,
   "id": "ff65f2cb-16a0-409c-b956-81e0f8cd4015",
   "metadata": {},
   "outputs": [
    {
     "data": {
      "text/plain": [
       "16.5"
      ]
     },
     "execution_count": 142,
     "metadata": {},
     "output_type": "execute_result"
    }
   ],
   "source": [
    "df_transaction[\"TOT_SALES\"].max()"
   ]
  },
  {
   "cell_type": "code",
   "execution_count": 143,
   "id": "7ba6961e-4ef3-46f5-a555-dfa35b75968f",
   "metadata": {},
   "outputs": [
    {
     "data": {
      "text/plain": [
       "5"
      ]
     },
     "execution_count": 143,
     "metadata": {},
     "output_type": "execute_result"
    }
   ],
   "source": [
    "df_transaction[\"PROD_QTY\"].max()"
   ]
  },
  {
   "cell_type": "code",
   "execution_count": 144,
   "id": "08bb8bae-f964-4c0b-87ab-858c9b0370b0",
   "metadata": {},
   "outputs": [
    {
     "data": {
      "text/html": [
       "<div>\n",
       "<style scoped>\n",
       "    .dataframe tbody tr th:only-of-type {\n",
       "        vertical-align: middle;\n",
       "    }\n",
       "\n",
       "    .dataframe tbody tr th {\n",
       "        vertical-align: top;\n",
       "    }\n",
       "\n",
       "    .dataframe thead th {\n",
       "        text-align: right;\n",
       "    }\n",
       "</style>\n",
       "<table border=\"1\" class=\"dataframe\">\n",
       "  <thead>\n",
       "    <tr style=\"text-align: right;\">\n",
       "      <th></th>\n",
       "      <th>DATE</th>\n",
       "      <th>STORE_NBR</th>\n",
       "      <th>LYLTY_CARD_NBR</th>\n",
       "      <th>TXN_ID</th>\n",
       "      <th>PROD_NBR</th>\n",
       "      <th>PROD_NAME</th>\n",
       "      <th>PROD_QTY</th>\n",
       "      <th>TOT_SALES</th>\n",
       "      <th>FINAL_SALES</th>\n",
       "      <th>year</th>\n",
       "      <th>month</th>\n",
       "    </tr>\n",
       "  </thead>\n",
       "  <tbody>\n",
       "    <tr>\n",
       "      <th>165</th>\n",
       "      <td>2019-05-17</td>\n",
       "      <td>222</td>\n",
       "      <td>222209</td>\n",
       "      <td>222693</td>\n",
       "      <td>40</td>\n",
       "      <td>Thins Chips Seasonedchicken 175g</td>\n",
       "      <td>5</td>\n",
       "      <td>16.5</td>\n",
       "      <td>82.5</td>\n",
       "      <td>2019</td>\n",
       "      <td>5</td>\n",
       "    </tr>\n",
       "    <tr>\n",
       "      <th>55330</th>\n",
       "      <td>2019-05-17</td>\n",
       "      <td>70</td>\n",
       "      <td>70183</td>\n",
       "      <td>68553</td>\n",
       "      <td>28</td>\n",
       "      <td>Thins Potato Chips  Hot &amp; Spicy 175g</td>\n",
       "      <td>5</td>\n",
       "      <td>16.5</td>\n",
       "      <td>82.5</td>\n",
       "      <td>2019</td>\n",
       "      <td>5</td>\n",
       "    </tr>\n",
       "    <tr>\n",
       "      <th>69502</th>\n",
       "      <td>2018-08-18</td>\n",
       "      <td>55</td>\n",
       "      <td>55144</td>\n",
       "      <td>49328</td>\n",
       "      <td>44</td>\n",
       "      <td>Thins Chips Light&amp;  Tangy 175g</td>\n",
       "      <td>5</td>\n",
       "      <td>16.5</td>\n",
       "      <td>82.5</td>\n",
       "      <td>2018</td>\n",
       "      <td>8</td>\n",
       "    </tr>\n",
       "    <tr>\n",
       "      <th>69719</th>\n",
       "      <td>2018-08-15</td>\n",
       "      <td>195</td>\n",
       "      <td>195123</td>\n",
       "      <td>194950</td>\n",
       "      <td>44</td>\n",
       "      <td>Thins Chips Light&amp;  Tangy 175g</td>\n",
       "      <td>5</td>\n",
       "      <td>16.5</td>\n",
       "      <td>82.5</td>\n",
       "      <td>2018</td>\n",
       "      <td>8</td>\n",
       "    </tr>\n",
       "    <tr>\n",
       "      <th>80649</th>\n",
       "      <td>2018-08-18</td>\n",
       "      <td>10</td>\n",
       "      <td>10249</td>\n",
       "      <td>10498</td>\n",
       "      <td>78</td>\n",
       "      <td>Thins Chips Salt &amp;  Vinegar 175g</td>\n",
       "      <td>5</td>\n",
       "      <td>16.5</td>\n",
       "      <td>82.5</td>\n",
       "      <td>2018</td>\n",
       "      <td>8</td>\n",
       "    </tr>\n",
       "    <tr>\n",
       "      <th>80662</th>\n",
       "      <td>2019-05-17</td>\n",
       "      <td>17</td>\n",
       "      <td>17325</td>\n",
       "      <td>15105</td>\n",
       "      <td>40</td>\n",
       "      <td>Thins Chips Seasonedchicken 175g</td>\n",
       "      <td>5</td>\n",
       "      <td>16.5</td>\n",
       "      <td>82.5</td>\n",
       "      <td>2019</td>\n",
       "      <td>5</td>\n",
       "    </tr>\n",
       "    <tr>\n",
       "      <th>80769</th>\n",
       "      <td>2018-08-15</td>\n",
       "      <td>66</td>\n",
       "      <td>66073</td>\n",
       "      <td>63336</td>\n",
       "      <td>78</td>\n",
       "      <td>Thins Chips Salt &amp;  Vinegar 175g</td>\n",
       "      <td>5</td>\n",
       "      <td>16.5</td>\n",
       "      <td>82.5</td>\n",
       "      <td>2018</td>\n",
       "      <td>8</td>\n",
       "    </tr>\n",
       "    <tr>\n",
       "      <th>80829</th>\n",
       "      <td>2018-08-15</td>\n",
       "      <td>81</td>\n",
       "      <td>81307</td>\n",
       "      <td>81094</td>\n",
       "      <td>40</td>\n",
       "      <td>Thins Chips Seasonedchicken 175g</td>\n",
       "      <td>5</td>\n",
       "      <td>16.5</td>\n",
       "      <td>82.5</td>\n",
       "      <td>2018</td>\n",
       "      <td>8</td>\n",
       "    </tr>\n",
       "    <tr>\n",
       "      <th>81224</th>\n",
       "      <td>2019-05-17</td>\n",
       "      <td>217</td>\n",
       "      <td>217183</td>\n",
       "      <td>217138</td>\n",
       "      <td>44</td>\n",
       "      <td>Thins Chips Light&amp;  Tangy 175g</td>\n",
       "      <td>5</td>\n",
       "      <td>16.5</td>\n",
       "      <td>82.5</td>\n",
       "      <td>2019</td>\n",
       "      <td>5</td>\n",
       "    </tr>\n",
       "    <tr>\n",
       "      <th>99458</th>\n",
       "      <td>2018-08-17</td>\n",
       "      <td>138</td>\n",
       "      <td>138085</td>\n",
       "      <td>141016</td>\n",
       "      <td>40</td>\n",
       "      <td>Thins Chips Seasonedchicken 175g</td>\n",
       "      <td>5</td>\n",
       "      <td>16.5</td>\n",
       "      <td>82.5</td>\n",
       "      <td>2018</td>\n",
       "      <td>8</td>\n",
       "    </tr>\n",
       "    <tr>\n",
       "      <th>117561</th>\n",
       "      <td>2019-05-18</td>\n",
       "      <td>86</td>\n",
       "      <td>86048</td>\n",
       "      <td>84443</td>\n",
       "      <td>18</td>\n",
       "      <td>Cheetos Chs &amp; Bacon Balls 190g</td>\n",
       "      <td>5</td>\n",
       "      <td>16.5</td>\n",
       "      <td>82.5</td>\n",
       "      <td>2019</td>\n",
       "      <td>5</td>\n",
       "    </tr>\n",
       "    <tr>\n",
       "      <th>117673</th>\n",
       "      <td>2018-08-16</td>\n",
       "      <td>123</td>\n",
       "      <td>123287</td>\n",
       "      <td>127260</td>\n",
       "      <td>40</td>\n",
       "      <td>Thins Chips Seasonedchicken 175g</td>\n",
       "      <td>5</td>\n",
       "      <td>16.5</td>\n",
       "      <td>82.5</td>\n",
       "      <td>2018</td>\n",
       "      <td>8</td>\n",
       "    </tr>\n",
       "    <tr>\n",
       "      <th>117935</th>\n",
       "      <td>2019-05-14</td>\n",
       "      <td>226</td>\n",
       "      <td>226193</td>\n",
       "      <td>227260</td>\n",
       "      <td>40</td>\n",
       "      <td>Thins Chips Seasonedchicken 175g</td>\n",
       "      <td>5</td>\n",
       "      <td>16.5</td>\n",
       "      <td>82.5</td>\n",
       "      <td>2019</td>\n",
       "      <td>5</td>\n",
       "    </tr>\n",
       "    <tr>\n",
       "      <th>150342</th>\n",
       "      <td>2019-05-18</td>\n",
       "      <td>10</td>\n",
       "      <td>10175</td>\n",
       "      <td>10075</td>\n",
       "      <td>44</td>\n",
       "      <td>Thins Chips Light&amp;  Tangy 175g</td>\n",
       "      <td>5</td>\n",
       "      <td>16.5</td>\n",
       "      <td>82.5</td>\n",
       "      <td>2019</td>\n",
       "      <td>5</td>\n",
       "    </tr>\n",
       "    <tr>\n",
       "      <th>150711</th>\n",
       "      <td>2019-05-18</td>\n",
       "      <td>126</td>\n",
       "      <td>126123</td>\n",
       "      <td>130002</td>\n",
       "      <td>78</td>\n",
       "      <td>Thins Chips Salt &amp;  Vinegar 175g</td>\n",
       "      <td>5</td>\n",
       "      <td>16.5</td>\n",
       "      <td>82.5</td>\n",
       "      <td>2019</td>\n",
       "      <td>5</td>\n",
       "    </tr>\n",
       "    <tr>\n",
       "      <th>151035</th>\n",
       "      <td>2019-05-17</td>\n",
       "      <td>230</td>\n",
       "      <td>230101</td>\n",
       "      <td>232597</td>\n",
       "      <td>44</td>\n",
       "      <td>Thins Chips Light&amp;  Tangy 175g</td>\n",
       "      <td>5</td>\n",
       "      <td>16.5</td>\n",
       "      <td>82.5</td>\n",
       "      <td>2019</td>\n",
       "      <td>5</td>\n",
       "    </tr>\n",
       "    <tr>\n",
       "      <th>185383</th>\n",
       "      <td>2019-05-20</td>\n",
       "      <td>207</td>\n",
       "      <td>207126</td>\n",
       "      <td>205349</td>\n",
       "      <td>28</td>\n",
       "      <td>Thins Potato Chips  Hot &amp; Spicy 175g</td>\n",
       "      <td>5</td>\n",
       "      <td>16.5</td>\n",
       "      <td>82.5</td>\n",
       "      <td>2019</td>\n",
       "      <td>5</td>\n",
       "    </tr>\n",
       "    <tr>\n",
       "      <th>185480</th>\n",
       "      <td>2018-08-16</td>\n",
       "      <td>241</td>\n",
       "      <td>241045</td>\n",
       "      <td>244805</td>\n",
       "      <td>22</td>\n",
       "      <td>Thins Chips         Originl saltd 175g</td>\n",
       "      <td>5</td>\n",
       "      <td>16.5</td>\n",
       "      <td>82.5</td>\n",
       "      <td>2018</td>\n",
       "      <td>8</td>\n",
       "    </tr>\n",
       "    <tr>\n",
       "      <th>204022</th>\n",
       "      <td>2018-08-16</td>\n",
       "      <td>13</td>\n",
       "      <td>13222</td>\n",
       "      <td>12503</td>\n",
       "      <td>28</td>\n",
       "      <td>Thins Potato Chips  Hot &amp; Spicy 175g</td>\n",
       "      <td>5</td>\n",
       "      <td>16.5</td>\n",
       "      <td>82.5</td>\n",
       "      <td>2018</td>\n",
       "      <td>8</td>\n",
       "    </tr>\n",
       "    <tr>\n",
       "      <th>204042</th>\n",
       "      <td>2018-08-20</td>\n",
       "      <td>29</td>\n",
       "      <td>29073</td>\n",
       "      <td>26037</td>\n",
       "      <td>40</td>\n",
       "      <td>Thins Chips Seasonedchicken 175g</td>\n",
       "      <td>5</td>\n",
       "      <td>16.5</td>\n",
       "      <td>82.5</td>\n",
       "      <td>2018</td>\n",
       "      <td>8</td>\n",
       "    </tr>\n",
       "    <tr>\n",
       "      <th>204060</th>\n",
       "      <td>2019-05-14</td>\n",
       "      <td>40</td>\n",
       "      <td>40129</td>\n",
       "      <td>36720</td>\n",
       "      <td>78</td>\n",
       "      <td>Thins Chips Salt &amp;  Vinegar 175g</td>\n",
       "      <td>5</td>\n",
       "      <td>16.5</td>\n",
       "      <td>82.5</td>\n",
       "      <td>2019</td>\n",
       "      <td>5</td>\n",
       "    </tr>\n",
       "    <tr>\n",
       "      <th>204279</th>\n",
       "      <td>2018-08-18</td>\n",
       "      <td>162</td>\n",
       "      <td>162117</td>\n",
       "      <td>162530</td>\n",
       "      <td>44</td>\n",
       "      <td>Thins Chips Light&amp;  Tangy 175g</td>\n",
       "      <td>5</td>\n",
       "      <td>16.5</td>\n",
       "      <td>82.5</td>\n",
       "      <td>2018</td>\n",
       "      <td>8</td>\n",
       "    </tr>\n",
       "    <tr>\n",
       "      <th>217330</th>\n",
       "      <td>2018-08-18</td>\n",
       "      <td>269</td>\n",
       "      <td>269024</td>\n",
       "      <td>265111</td>\n",
       "      <td>78</td>\n",
       "      <td>Thins Chips Salt &amp;  Vinegar 175g</td>\n",
       "      <td>5</td>\n",
       "      <td>16.5</td>\n",
       "      <td>82.5</td>\n",
       "      <td>2018</td>\n",
       "      <td>8</td>\n",
       "    </tr>\n",
       "    <tr>\n",
       "      <th>228504</th>\n",
       "      <td>2018-08-15</td>\n",
       "      <td>30</td>\n",
       "      <td>30211</td>\n",
       "      <td>27812</td>\n",
       "      <td>40</td>\n",
       "      <td>Thins Chips Seasonedchicken 175g</td>\n",
       "      <td>5</td>\n",
       "      <td>16.5</td>\n",
       "      <td>82.5</td>\n",
       "      <td>2018</td>\n",
       "      <td>8</td>\n",
       "    </tr>\n",
       "    <tr>\n",
       "      <th>238397</th>\n",
       "      <td>2019-05-18</td>\n",
       "      <td>238</td>\n",
       "      <td>238337</td>\n",
       "      <td>243243</td>\n",
       "      <td>28</td>\n",
       "      <td>Thins Potato Chips  Hot &amp; Spicy 175g</td>\n",
       "      <td>5</td>\n",
       "      <td>16.5</td>\n",
       "      <td>82.5</td>\n",
       "      <td>2019</td>\n",
       "      <td>5</td>\n",
       "    </tr>\n",
       "    <tr>\n",
       "      <th>258632</th>\n",
       "      <td>2019-05-17</td>\n",
       "      <td>88</td>\n",
       "      <td>88142</td>\n",
       "      <td>86924</td>\n",
       "      <td>78</td>\n",
       "      <td>Thins Chips Salt &amp;  Vinegar 175g</td>\n",
       "      <td>5</td>\n",
       "      <td>16.5</td>\n",
       "      <td>82.5</td>\n",
       "      <td>2019</td>\n",
       "      <td>5</td>\n",
       "    </tr>\n",
       "    <tr>\n",
       "      <th>258726</th>\n",
       "      <td>2018-08-20</td>\n",
       "      <td>203</td>\n",
       "      <td>203253</td>\n",
       "      <td>203360</td>\n",
       "      <td>28</td>\n",
       "      <td>Thins Potato Chips  Hot &amp; Spicy 175g</td>\n",
       "      <td>5</td>\n",
       "      <td>16.5</td>\n",
       "      <td>82.5</td>\n",
       "      <td>2018</td>\n",
       "      <td>8</td>\n",
       "    </tr>\n",
       "  </tbody>\n",
       "</table>\n",
       "</div>"
      ],
      "text/plain": [
       "             DATE  STORE_NBR  LYLTY_CARD_NBR  TXN_ID  PROD_NBR  \\\n",
       "165    2019-05-17        222          222209  222693        40   \n",
       "55330  2019-05-17         70           70183   68553        28   \n",
       "69502  2018-08-18         55           55144   49328        44   \n",
       "69719  2018-08-15        195          195123  194950        44   \n",
       "80649  2018-08-18         10           10249   10498        78   \n",
       "80662  2019-05-17         17           17325   15105        40   \n",
       "80769  2018-08-15         66           66073   63336        78   \n",
       "80829  2018-08-15         81           81307   81094        40   \n",
       "81224  2019-05-17        217          217183  217138        44   \n",
       "99458  2018-08-17        138          138085  141016        40   \n",
       "117561 2019-05-18         86           86048   84443        18   \n",
       "117673 2018-08-16        123          123287  127260        40   \n",
       "117935 2019-05-14        226          226193  227260        40   \n",
       "150342 2019-05-18         10           10175   10075        44   \n",
       "150711 2019-05-18        126          126123  130002        78   \n",
       "151035 2019-05-17        230          230101  232597        44   \n",
       "185383 2019-05-20        207          207126  205349        28   \n",
       "185480 2018-08-16        241          241045  244805        22   \n",
       "204022 2018-08-16         13           13222   12503        28   \n",
       "204042 2018-08-20         29           29073   26037        40   \n",
       "204060 2019-05-14         40           40129   36720        78   \n",
       "204279 2018-08-18        162          162117  162530        44   \n",
       "217330 2018-08-18        269          269024  265111        78   \n",
       "228504 2018-08-15         30           30211   27812        40   \n",
       "238397 2019-05-18        238          238337  243243        28   \n",
       "258632 2019-05-17         88           88142   86924        78   \n",
       "258726 2018-08-20        203          203253  203360        28   \n",
       "\n",
       "                                     PROD_NAME  PROD_QTY  TOT_SALES  \\\n",
       "165           Thins Chips Seasonedchicken 175g         5       16.5   \n",
       "55330     Thins Potato Chips  Hot & Spicy 175g         5       16.5   \n",
       "69502           Thins Chips Light&  Tangy 175g         5       16.5   \n",
       "69719           Thins Chips Light&  Tangy 175g         5       16.5   \n",
       "80649         Thins Chips Salt &  Vinegar 175g         5       16.5   \n",
       "80662         Thins Chips Seasonedchicken 175g         5       16.5   \n",
       "80769         Thins Chips Salt &  Vinegar 175g         5       16.5   \n",
       "80829         Thins Chips Seasonedchicken 175g         5       16.5   \n",
       "81224           Thins Chips Light&  Tangy 175g         5       16.5   \n",
       "99458         Thins Chips Seasonedchicken 175g         5       16.5   \n",
       "117561          Cheetos Chs & Bacon Balls 190g         5       16.5   \n",
       "117673        Thins Chips Seasonedchicken 175g         5       16.5   \n",
       "117935        Thins Chips Seasonedchicken 175g         5       16.5   \n",
       "150342          Thins Chips Light&  Tangy 175g         5       16.5   \n",
       "150711        Thins Chips Salt &  Vinegar 175g         5       16.5   \n",
       "151035          Thins Chips Light&  Tangy 175g         5       16.5   \n",
       "185383    Thins Potato Chips  Hot & Spicy 175g         5       16.5   \n",
       "185480  Thins Chips         Originl saltd 175g         5       16.5   \n",
       "204022    Thins Potato Chips  Hot & Spicy 175g         5       16.5   \n",
       "204042        Thins Chips Seasonedchicken 175g         5       16.5   \n",
       "204060        Thins Chips Salt &  Vinegar 175g         5       16.5   \n",
       "204279          Thins Chips Light&  Tangy 175g         5       16.5   \n",
       "217330        Thins Chips Salt &  Vinegar 175g         5       16.5   \n",
       "228504        Thins Chips Seasonedchicken 175g         5       16.5   \n",
       "238397    Thins Potato Chips  Hot & Spicy 175g         5       16.5   \n",
       "258632        Thins Chips Salt &  Vinegar 175g         5       16.5   \n",
       "258726    Thins Potato Chips  Hot & Spicy 175g         5       16.5   \n",
       "\n",
       "        FINAL_SALES  year  month  \n",
       "165            82.5  2019      5  \n",
       "55330          82.5  2019      5  \n",
       "69502          82.5  2018      8  \n",
       "69719          82.5  2018      8  \n",
       "80649          82.5  2018      8  \n",
       "80662          82.5  2019      5  \n",
       "80769          82.5  2018      8  \n",
       "80829          82.5  2018      8  \n",
       "81224          82.5  2019      5  \n",
       "99458          82.5  2018      8  \n",
       "117561         82.5  2019      5  \n",
       "117673         82.5  2018      8  \n",
       "117935         82.5  2019      5  \n",
       "150342         82.5  2019      5  \n",
       "150711         82.5  2019      5  \n",
       "151035         82.5  2019      5  \n",
       "185383         82.5  2019      5  \n",
       "185480         82.5  2018      8  \n",
       "204022         82.5  2018      8  \n",
       "204042         82.5  2018      8  \n",
       "204060         82.5  2019      5  \n",
       "204279         82.5  2018      8  \n",
       "217330         82.5  2018      8  \n",
       "228504         82.5  2018      8  \n",
       "238397         82.5  2019      5  \n",
       "258632         82.5  2019      5  \n",
       "258726         82.5  2018      8  "
      ]
     },
     "execution_count": 144,
     "metadata": {},
     "output_type": "execute_result"
    }
   ],
   "source": [
    "df_transaction[df_transaction[\"TOT_SALES\"]==df_transaction[\"TOT_SALES\"].max()]"
   ]
  },
  {
   "cell_type": "code",
   "execution_count": 145,
   "id": "466d1829-61de-41d5-80d2-0958f83693c0",
   "metadata": {},
   "outputs": [
    {
     "data": {
      "text/html": [
       "<div>\n",
       "<style scoped>\n",
       "    .dataframe tbody tr th:only-of-type {\n",
       "        vertical-align: middle;\n",
       "    }\n",
       "\n",
       "    .dataframe tbody tr th {\n",
       "        vertical-align: top;\n",
       "    }\n",
       "\n",
       "    .dataframe thead th {\n",
       "        text-align: right;\n",
       "    }\n",
       "</style>\n",
       "<table border=\"1\" class=\"dataframe\">\n",
       "  <thead>\n",
       "    <tr style=\"text-align: right;\">\n",
       "      <th></th>\n",
       "      <th>DATE</th>\n",
       "      <th>STORE_NBR</th>\n",
       "      <th>LYLTY_CARD_NBR</th>\n",
       "      <th>TXN_ID</th>\n",
       "      <th>PROD_NBR</th>\n",
       "      <th>PROD_NAME</th>\n",
       "      <th>PROD_QTY</th>\n",
       "      <th>TOT_SALES</th>\n",
       "      <th>FINAL_SALES</th>\n",
       "      <th>year</th>\n",
       "      <th>month</th>\n",
       "    </tr>\n",
       "  </thead>\n",
       "  <tbody>\n",
       "  </tbody>\n",
       "</table>\n",
       "</div>"
      ],
      "text/plain": [
       "Empty DataFrame\n",
       "Columns: [DATE, STORE_NBR, LYLTY_CARD_NBR, TXN_ID, PROD_NBR, PROD_NAME, PROD_QTY, TOT_SALES, FINAL_SALES, year, month]\n",
       "Index: []"
      ]
     },
     "execution_count": 145,
     "metadata": {},
     "output_type": "execute_result"
    }
   ],
   "source": [
    "# Checking Outliers\n",
    "df_transaction[df_transaction[\"TOT_SALES\"]<0]"
   ]
  },
  {
   "cell_type": "code",
   "execution_count": 146,
   "id": "44531d30-92eb-4cba-9884-dea1f35e4947",
   "metadata": {},
   "outputs": [],
   "source": [
    "avg,std=df_transaction[\"TOT_SALES\"].mean(),df_transaction[\"TOT_SALES\"].std()"
   ]
  },
  {
   "cell_type": "code",
   "execution_count": 147,
   "id": "433849ce-cf49-4a87-9ece-fbcab322db1b",
   "metadata": {},
   "outputs": [
    {
     "data": {
      "text/plain": [
       "14.66671520181196"
      ]
     },
     "execution_count": 147,
     "metadata": {},
     "output_type": "execute_result"
    }
   ],
   "source": [
    "higher_limit = avg+3*std\n",
    "higher_limit"
   ]
  },
  {
   "cell_type": "code",
   "execution_count": 148,
   "id": "aa2921e2-4ec3-4c86-8d9e-5783bcd5e04a",
   "metadata": {},
   "outputs": [
    {
     "data": {
      "text/plain": [
       "-0.11334205461286206"
      ]
     },
     "execution_count": 148,
     "metadata": {},
     "output_type": "execute_result"
    }
   ],
   "source": [
    "lower_limit= avg-3*std\n",
    "lower_limit"
   ]
  },
  {
   "cell_type": "code",
   "execution_count": 149,
   "id": "0692121d-3403-427b-97e5-42c51ffdb6c7",
   "metadata": {},
   "outputs": [
    {
     "data": {
      "text/html": [
       "<div>\n",
       "<style scoped>\n",
       "    .dataframe tbody tr th:only-of-type {\n",
       "        vertical-align: middle;\n",
       "    }\n",
       "\n",
       "    .dataframe tbody tr th {\n",
       "        vertical-align: top;\n",
       "    }\n",
       "\n",
       "    .dataframe thead th {\n",
       "        text-align: right;\n",
       "    }\n",
       "</style>\n",
       "<table border=\"1\" class=\"dataframe\">\n",
       "  <thead>\n",
       "    <tr style=\"text-align: right;\">\n",
       "      <th></th>\n",
       "      <th>DATE</th>\n",
       "      <th>STORE_NBR</th>\n",
       "      <th>LYLTY_CARD_NBR</th>\n",
       "      <th>TXN_ID</th>\n",
       "      <th>PROD_NBR</th>\n",
       "      <th>PROD_NAME</th>\n",
       "      <th>PROD_QTY</th>\n",
       "      <th>TOT_SALES</th>\n",
       "      <th>FINAL_SALES</th>\n",
       "      <th>year</th>\n",
       "      <th>month</th>\n",
       "    </tr>\n",
       "  </thead>\n",
       "  <tbody>\n",
       "    <tr>\n",
       "      <th>3</th>\n",
       "      <td>2018-08-17</td>\n",
       "      <td>2</td>\n",
       "      <td>2373</td>\n",
       "      <td>974</td>\n",
       "      <td>69</td>\n",
       "      <td>Smiths Chip Thinly  S/Cream&amp;Onion 175g</td>\n",
       "      <td>5</td>\n",
       "      <td>15.0</td>\n",
       "      <td>75.0</td>\n",
       "      <td>2018</td>\n",
       "      <td>8</td>\n",
       "    </tr>\n",
       "    <tr>\n",
       "      <th>31</th>\n",
       "      <td>2019-05-15</td>\n",
       "      <td>43</td>\n",
       "      <td>43227</td>\n",
       "      <td>40186</td>\n",
       "      <td>26</td>\n",
       "      <td>Pringles Sweet&amp;Spcy BBQ 134g</td>\n",
       "      <td>4</td>\n",
       "      <td>14.8</td>\n",
       "      <td>59.2</td>\n",
       "      <td>2019</td>\n",
       "      <td>5</td>\n",
       "    </tr>\n",
       "    <tr>\n",
       "      <th>56</th>\n",
       "      <td>2019-05-16</td>\n",
       "      <td>74</td>\n",
       "      <td>74336</td>\n",
       "      <td>73182</td>\n",
       "      <td>84</td>\n",
       "      <td>GrnWves Plus Btroot &amp; Chilli Jam 180g</td>\n",
       "      <td>5</td>\n",
       "      <td>15.5</td>\n",
       "      <td>77.5</td>\n",
       "      <td>2019</td>\n",
       "      <td>5</td>\n",
       "    </tr>\n",
       "    <tr>\n",
       "      <th>124</th>\n",
       "      <td>2019-05-17</td>\n",
       "      <td>168</td>\n",
       "      <td>168219</td>\n",
       "      <td>170719</td>\n",
       "      <td>33</td>\n",
       "      <td>Cobs Popd Swt/Chlli &amp;Sr/Cream Chips 110g</td>\n",
       "      <td>4</td>\n",
       "      <td>15.2</td>\n",
       "      <td>60.8</td>\n",
       "      <td>2019</td>\n",
       "      <td>5</td>\n",
       "    </tr>\n",
       "    <tr>\n",
       "      <th>165</th>\n",
       "      <td>2019-05-17</td>\n",
       "      <td>222</td>\n",
       "      <td>222209</td>\n",
       "      <td>222693</td>\n",
       "      <td>40</td>\n",
       "      <td>Thins Chips Seasonedchicken 175g</td>\n",
       "      <td>5</td>\n",
       "      <td>16.5</td>\n",
       "      <td>82.5</td>\n",
       "      <td>2019</td>\n",
       "      <td>5</td>\n",
       "    </tr>\n",
       "    <tr>\n",
       "      <th>...</th>\n",
       "      <td>...</td>\n",
       "      <td>...</td>\n",
       "      <td>...</td>\n",
       "      <td>...</td>\n",
       "      <td>...</td>\n",
       "      <td>...</td>\n",
       "      <td>...</td>\n",
       "      <td>...</td>\n",
       "      <td>...</td>\n",
       "      <td>...</td>\n",
       "      <td>...</td>\n",
       "    </tr>\n",
       "    <tr>\n",
       "      <th>258630</th>\n",
       "      <td>2019-05-15</td>\n",
       "      <td>84</td>\n",
       "      <td>84217</td>\n",
       "      <td>83871</td>\n",
       "      <td>109</td>\n",
       "      <td>Pringles Barbeque   134g</td>\n",
       "      <td>4</td>\n",
       "      <td>14.8</td>\n",
       "      <td>59.2</td>\n",
       "      <td>2019</td>\n",
       "      <td>5</td>\n",
       "    </tr>\n",
       "    <tr>\n",
       "      <th>258632</th>\n",
       "      <td>2019-05-17</td>\n",
       "      <td>88</td>\n",
       "      <td>88142</td>\n",
       "      <td>86924</td>\n",
       "      <td>78</td>\n",
       "      <td>Thins Chips Salt &amp;  Vinegar 175g</td>\n",
       "      <td>5</td>\n",
       "      <td>16.5</td>\n",
       "      <td>82.5</td>\n",
       "      <td>2019</td>\n",
       "      <td>5</td>\n",
       "    </tr>\n",
       "    <tr>\n",
       "      <th>258659</th>\n",
       "      <td>2018-08-18</td>\n",
       "      <td>123</td>\n",
       "      <td>123246</td>\n",
       "      <td>127077</td>\n",
       "      <td>104</td>\n",
       "      <td>Infuzions Thai SweetChili PotatoMix 110g</td>\n",
       "      <td>4</td>\n",
       "      <td>15.2</td>\n",
       "      <td>60.8</td>\n",
       "      <td>2018</td>\n",
       "      <td>8</td>\n",
       "    </tr>\n",
       "    <tr>\n",
       "      <th>258726</th>\n",
       "      <td>2018-08-20</td>\n",
       "      <td>203</td>\n",
       "      <td>203253</td>\n",
       "      <td>203360</td>\n",
       "      <td>28</td>\n",
       "      <td>Thins Potato Chips  Hot &amp; Spicy 175g</td>\n",
       "      <td>5</td>\n",
       "      <td>16.5</td>\n",
       "      <td>82.5</td>\n",
       "      <td>2018</td>\n",
       "      <td>8</td>\n",
       "    </tr>\n",
       "    <tr>\n",
       "      <th>258729</th>\n",
       "      <td>2019-05-16</td>\n",
       "      <td>208</td>\n",
       "      <td>208205</td>\n",
       "      <td>207318</td>\n",
       "      <td>37</td>\n",
       "      <td>Smiths Thinly       Swt Chli&amp;S/Cream175G</td>\n",
       "      <td>5</td>\n",
       "      <td>15.0</td>\n",
       "      <td>75.0</td>\n",
       "      <td>2019</td>\n",
       "      <td>5</td>\n",
       "    </tr>\n",
       "  </tbody>\n",
       "</table>\n",
       "<p>179 rows × 11 columns</p>\n",
       "</div>"
      ],
      "text/plain": [
       "             DATE  STORE_NBR  LYLTY_CARD_NBR  TXN_ID  PROD_NBR  \\\n",
       "3      2018-08-17          2            2373     974        69   \n",
       "31     2019-05-15         43           43227   40186        26   \n",
       "56     2019-05-16         74           74336   73182        84   \n",
       "124    2019-05-17        168          168219  170719        33   \n",
       "165    2019-05-17        222          222209  222693        40   \n",
       "...           ...        ...             ...     ...       ...   \n",
       "258630 2019-05-15         84           84217   83871       109   \n",
       "258632 2019-05-17         88           88142   86924        78   \n",
       "258659 2018-08-18        123          123246  127077       104   \n",
       "258726 2018-08-20        203          203253  203360        28   \n",
       "258729 2019-05-16        208          208205  207318        37   \n",
       "\n",
       "                                       PROD_NAME  PROD_QTY  TOT_SALES  \\\n",
       "3         Smiths Chip Thinly  S/Cream&Onion 175g         5       15.0   \n",
       "31                  Pringles Sweet&Spcy BBQ 134g         4       14.8   \n",
       "56         GrnWves Plus Btroot & Chilli Jam 180g         5       15.5   \n",
       "124     Cobs Popd Swt/Chlli &Sr/Cream Chips 110g         4       15.2   \n",
       "165             Thins Chips Seasonedchicken 175g         5       16.5   \n",
       "...                                          ...       ...        ...   \n",
       "258630                  Pringles Barbeque   134g         4       14.8   \n",
       "258632          Thins Chips Salt &  Vinegar 175g         5       16.5   \n",
       "258659  Infuzions Thai SweetChili PotatoMix 110g         4       15.2   \n",
       "258726      Thins Potato Chips  Hot & Spicy 175g         5       16.5   \n",
       "258729  Smiths Thinly       Swt Chli&S/Cream175G         5       15.0   \n",
       "\n",
       "        FINAL_SALES  year  month  \n",
       "3              75.0  2018      8  \n",
       "31             59.2  2019      5  \n",
       "56             77.5  2019      5  \n",
       "124            60.8  2019      5  \n",
       "165            82.5  2019      5  \n",
       "...             ...   ...    ...  \n",
       "258630         59.2  2019      5  \n",
       "258632         82.5  2019      5  \n",
       "258659         60.8  2018      8  \n",
       "258726         82.5  2018      8  \n",
       "258729         75.0  2019      5  \n",
       "\n",
       "[179 rows x 11 columns]"
      ]
     },
     "execution_count": 149,
     "metadata": {},
     "output_type": "execute_result"
    }
   ],
   "source": [
    "# Checking Outliers\n",
    "df_transaction[df_transaction[\"TOT_SALES\"]>=higher_limit]"
   ]
  },
  {
   "cell_type": "code",
   "execution_count": 150,
   "id": "3060617e-32d4-491d-a77e-9a0fcc853d83",
   "metadata": {},
   "outputs": [
    {
     "data": {
      "text/html": [
       "<div>\n",
       "<style scoped>\n",
       "    .dataframe tbody tr th:only-of-type {\n",
       "        vertical-align: middle;\n",
       "    }\n",
       "\n",
       "    .dataframe tbody tr th {\n",
       "        vertical-align: top;\n",
       "    }\n",
       "\n",
       "    .dataframe thead th {\n",
       "        text-align: right;\n",
       "    }\n",
       "</style>\n",
       "<table border=\"1\" class=\"dataframe\">\n",
       "  <thead>\n",
       "    <tr style=\"text-align: right;\">\n",
       "      <th></th>\n",
       "      <th>DATE</th>\n",
       "      <th>STORE_NBR</th>\n",
       "      <th>LYLTY_CARD_NBR</th>\n",
       "      <th>TXN_ID</th>\n",
       "      <th>PROD_NBR</th>\n",
       "      <th>PROD_NAME</th>\n",
       "      <th>PROD_QTY</th>\n",
       "      <th>TOT_SALES</th>\n",
       "      <th>FINAL_SALES</th>\n",
       "      <th>year</th>\n",
       "      <th>month</th>\n",
       "    </tr>\n",
       "  </thead>\n",
       "  <tbody>\n",
       "  </tbody>\n",
       "</table>\n",
       "</div>"
      ],
      "text/plain": [
       "Empty DataFrame\n",
       "Columns: [DATE, STORE_NBR, LYLTY_CARD_NBR, TXN_ID, PROD_NBR, PROD_NAME, PROD_QTY, TOT_SALES, FINAL_SALES, year, month]\n",
       "Index: []"
      ]
     },
     "execution_count": 150,
     "metadata": {},
     "output_type": "execute_result"
    }
   ],
   "source": [
    "# Checking Oulier\n",
    "df_transaction[df_transaction[\"TOT_SALES\"]<=lower_limit]\n",
    "# No outliers for lower_limit"
   ]
  },
  {
   "cell_type": "code",
   "execution_count": 151,
   "id": "893e7e18-a0d3-4697-8898-ec1741eb1ba3",
   "metadata": {},
   "outputs": [],
   "source": [
    "# We need to remove outliers\n",
    "df_transaction = df_transaction[df_transaction[\"TOT_SALES\"]<=higher_limit]"
   ]
  },
  {
   "cell_type": "code",
   "execution_count": 152,
   "id": "b574ef19-72b7-45e3-8536-b85b7fea1244",
   "metadata": {},
   "outputs": [
    {
     "data": {
      "text/plain": [
       "(264218, 11)"
      ]
     },
     "execution_count": 152,
     "metadata": {},
     "output_type": "execute_result"
    }
   ],
   "source": [
    "# Outlier removed\n",
    "df_transaction.shape"
   ]
  },
  {
   "cell_type": "code",
   "execution_count": 153,
   "id": "7bc265c9-5c1c-4a7e-bd34-72c2342d20a9",
   "metadata": {},
   "outputs": [
    {
     "data": {
      "text/html": [
       "<div>\n",
       "<style scoped>\n",
       "    .dataframe tbody tr th:only-of-type {\n",
       "        vertical-align: middle;\n",
       "    }\n",
       "\n",
       "    .dataframe tbody tr th {\n",
       "        vertical-align: top;\n",
       "    }\n",
       "\n",
       "    .dataframe thead th {\n",
       "        text-align: right;\n",
       "    }\n",
       "</style>\n",
       "<table border=\"1\" class=\"dataframe\">\n",
       "  <thead>\n",
       "    <tr style=\"text-align: right;\">\n",
       "      <th></th>\n",
       "      <th>DATE</th>\n",
       "      <th>STORE_NBR</th>\n",
       "      <th>LYLTY_CARD_NBR</th>\n",
       "      <th>TXN_ID</th>\n",
       "      <th>PROD_NBR</th>\n",
       "      <th>PROD_NAME</th>\n",
       "      <th>PROD_QTY</th>\n",
       "      <th>TOT_SALES</th>\n",
       "      <th>FINAL_SALES</th>\n",
       "      <th>year</th>\n",
       "      <th>month</th>\n",
       "    </tr>\n",
       "  </thead>\n",
       "  <tbody>\n",
       "    <tr>\n",
       "      <th>0</th>\n",
       "      <td>2018-10-17</td>\n",
       "      <td>1</td>\n",
       "      <td>1000</td>\n",
       "      <td>1</td>\n",
       "      <td>5</td>\n",
       "      <td>Natural Chip        Compny SeaSalt175g</td>\n",
       "      <td>2</td>\n",
       "      <td>6.0</td>\n",
       "      <td>12.0</td>\n",
       "      <td>2018</td>\n",
       "      <td>10</td>\n",
       "    </tr>\n",
       "    <tr>\n",
       "      <th>1</th>\n",
       "      <td>2019-05-14</td>\n",
       "      <td>1</td>\n",
       "      <td>1307</td>\n",
       "      <td>348</td>\n",
       "      <td>66</td>\n",
       "      <td>CCs Nacho Cheese    175g</td>\n",
       "      <td>3</td>\n",
       "      <td>6.3</td>\n",
       "      <td>18.9</td>\n",
       "      <td>2019</td>\n",
       "      <td>5</td>\n",
       "    </tr>\n",
       "    <tr>\n",
       "      <th>2</th>\n",
       "      <td>2019-05-20</td>\n",
       "      <td>1</td>\n",
       "      <td>1343</td>\n",
       "      <td>383</td>\n",
       "      <td>61</td>\n",
       "      <td>Smiths Crinkle Cut  Chips Chicken 170g</td>\n",
       "      <td>2</td>\n",
       "      <td>2.9</td>\n",
       "      <td>5.8</td>\n",
       "      <td>2019</td>\n",
       "      <td>5</td>\n",
       "    </tr>\n",
       "    <tr>\n",
       "      <th>4</th>\n",
       "      <td>2018-08-18</td>\n",
       "      <td>2</td>\n",
       "      <td>2426</td>\n",
       "      <td>1038</td>\n",
       "      <td>108</td>\n",
       "      <td>Kettle Tortilla ChpsHny&amp;Jlpno Chili 150g</td>\n",
       "      <td>3</td>\n",
       "      <td>13.8</td>\n",
       "      <td>41.4</td>\n",
       "      <td>2018</td>\n",
       "      <td>8</td>\n",
       "    </tr>\n",
       "    <tr>\n",
       "      <th>5</th>\n",
       "      <td>2019-05-19</td>\n",
       "      <td>4</td>\n",
       "      <td>4074</td>\n",
       "      <td>2982</td>\n",
       "      <td>57</td>\n",
       "      <td>Old El Paso Salsa   Dip Tomato Mild 300g</td>\n",
       "      <td>1</td>\n",
       "      <td>5.1</td>\n",
       "      <td>5.1</td>\n",
       "      <td>2019</td>\n",
       "      <td>5</td>\n",
       "    </tr>\n",
       "  </tbody>\n",
       "</table>\n",
       "</div>"
      ],
      "text/plain": [
       "        DATE  STORE_NBR  LYLTY_CARD_NBR  TXN_ID  PROD_NBR  \\\n",
       "0 2018-10-17          1            1000       1         5   \n",
       "1 2019-05-14          1            1307     348        66   \n",
       "2 2019-05-20          1            1343     383        61   \n",
       "4 2018-08-18          2            2426    1038       108   \n",
       "5 2019-05-19          4            4074    2982        57   \n",
       "\n",
       "                                  PROD_NAME  PROD_QTY  TOT_SALES  FINAL_SALES  \\\n",
       "0    Natural Chip        Compny SeaSalt175g         2        6.0         12.0   \n",
       "1                  CCs Nacho Cheese    175g         3        6.3         18.9   \n",
       "2    Smiths Crinkle Cut  Chips Chicken 170g         2        2.9          5.8   \n",
       "4  Kettle Tortilla ChpsHny&Jlpno Chili 150g         3       13.8         41.4   \n",
       "5  Old El Paso Salsa   Dip Tomato Mild 300g         1        5.1          5.1   \n",
       "\n",
       "   year  month  \n",
       "0  2018     10  \n",
       "1  2019      5  \n",
       "2  2019      5  \n",
       "4  2018      8  \n",
       "5  2019      5  "
      ]
     },
     "execution_count": 153,
     "metadata": {},
     "output_type": "execute_result"
    }
   ],
   "source": [
    "df_transaction.head(5)"
   ]
  },
  {
   "cell_type": "markdown",
   "id": "216b73d1-5e2e-43de-9b8e-27e87fca7306",
   "metadata": {},
   "source": [
    "Purchase Table"
   ]
  },
  {
   "cell_type": "code",
   "execution_count": 154,
   "id": "88a84d1a-b0b1-49fa-9c5f-e6d30a34268b",
   "metadata": {},
   "outputs": [
    {
     "data": {
      "text/html": [
       "<div>\n",
       "<style scoped>\n",
       "    .dataframe tbody tr th:only-of-type {\n",
       "        vertical-align: middle;\n",
       "    }\n",
       "\n",
       "    .dataframe tbody tr th {\n",
       "        vertical-align: top;\n",
       "    }\n",
       "\n",
       "    .dataframe thead th {\n",
       "        text-align: right;\n",
       "    }\n",
       "</style>\n",
       "<table border=\"1\" class=\"dataframe\">\n",
       "  <thead>\n",
       "    <tr style=\"text-align: right;\">\n",
       "      <th></th>\n",
       "      <th>LYLTY_CARD_NBR</th>\n",
       "      <th>LIFESTAGE</th>\n",
       "      <th>PREMIUM_CUSTOMER</th>\n",
       "    </tr>\n",
       "  </thead>\n",
       "  <tbody>\n",
       "    <tr>\n",
       "      <th>0</th>\n",
       "      <td>1000</td>\n",
       "      <td>YOUNG SINGLES/COUPLES</td>\n",
       "      <td>Premium</td>\n",
       "    </tr>\n",
       "    <tr>\n",
       "      <th>1</th>\n",
       "      <td>1002</td>\n",
       "      <td>YOUNG SINGLES/COUPLES</td>\n",
       "      <td>Mainstream</td>\n",
       "    </tr>\n",
       "    <tr>\n",
       "      <th>2</th>\n",
       "      <td>1003</td>\n",
       "      <td>YOUNG FAMILIES</td>\n",
       "      <td>Budget</td>\n",
       "    </tr>\n",
       "    <tr>\n",
       "      <th>3</th>\n",
       "      <td>1004</td>\n",
       "      <td>OLDER SINGLES/COUPLES</td>\n",
       "      <td>Mainstream</td>\n",
       "    </tr>\n",
       "    <tr>\n",
       "      <th>4</th>\n",
       "      <td>1005</td>\n",
       "      <td>MIDAGE SINGLES/COUPLES</td>\n",
       "      <td>Mainstream</td>\n",
       "    </tr>\n",
       "  </tbody>\n",
       "</table>\n",
       "</div>"
      ],
      "text/plain": [
       "   LYLTY_CARD_NBR               LIFESTAGE PREMIUM_CUSTOMER\n",
       "0            1000   YOUNG SINGLES/COUPLES          Premium\n",
       "1            1002   YOUNG SINGLES/COUPLES       Mainstream\n",
       "2            1003          YOUNG FAMILIES           Budget\n",
       "3            1004   OLDER SINGLES/COUPLES       Mainstream\n",
       "4            1005  MIDAGE SINGLES/COUPLES       Mainstream"
      ]
     },
     "execution_count": 154,
     "metadata": {},
     "output_type": "execute_result"
    }
   ],
   "source": [
    "df_purchase.head(5)"
   ]
  },
  {
   "cell_type": "code",
   "execution_count": 155,
   "id": "5ca2e843-7e16-4ea5-bcd7-161322c28c97",
   "metadata": {},
   "outputs": [
    {
     "data": {
      "text/plain": [
       "LYLTY_CARD_NBR      0\n",
       "LIFESTAGE           0\n",
       "PREMIUM_CUSTOMER    0\n",
       "dtype: int64"
      ]
     },
     "execution_count": 155,
     "metadata": {},
     "output_type": "execute_result"
    }
   ],
   "source": [
    "df_purchase.isnull().sum()"
   ]
  },
  {
   "cell_type": "markdown",
   "id": "7b983e64-0151-49f1-b4f0-6fc37d2c8aeb",
   "metadata": {},
   "source": [
    "# Data Cleaning and Data Transformation"
   ]
  },
  {
   "cell_type": "code",
   "execution_count": 156,
   "id": "204bd992-33f6-4da5-a586-7a0283778a4c",
   "metadata": {},
   "outputs": [
    {
     "data": {
      "text/html": [
       "<div>\n",
       "<style scoped>\n",
       "    .dataframe tbody tr th:only-of-type {\n",
       "        vertical-align: middle;\n",
       "    }\n",
       "\n",
       "    .dataframe tbody tr th {\n",
       "        vertical-align: top;\n",
       "    }\n",
       "\n",
       "    .dataframe thead th {\n",
       "        text-align: right;\n",
       "    }\n",
       "</style>\n",
       "<table border=\"1\" class=\"dataframe\">\n",
       "  <thead>\n",
       "    <tr style=\"text-align: right;\">\n",
       "      <th></th>\n",
       "      <th>DATE</th>\n",
       "      <th>STORE_NBR</th>\n",
       "      <th>LYLTY_CARD_NBR</th>\n",
       "      <th>TXN_ID</th>\n",
       "      <th>PROD_NBR</th>\n",
       "      <th>PROD_NAME</th>\n",
       "      <th>PROD_QTY</th>\n",
       "      <th>TOT_SALES</th>\n",
       "      <th>FINAL_SALES</th>\n",
       "      <th>year</th>\n",
       "      <th>month</th>\n",
       "    </tr>\n",
       "  </thead>\n",
       "  <tbody>\n",
       "    <tr>\n",
       "      <th>0</th>\n",
       "      <td>2018-10-17</td>\n",
       "      <td>1</td>\n",
       "      <td>1000</td>\n",
       "      <td>1</td>\n",
       "      <td>5</td>\n",
       "      <td>Natural Chip        Compny SeaSalt175g</td>\n",
       "      <td>2</td>\n",
       "      <td>6.0</td>\n",
       "      <td>12.0</td>\n",
       "      <td>2018</td>\n",
       "      <td>10</td>\n",
       "    </tr>\n",
       "    <tr>\n",
       "      <th>1</th>\n",
       "      <td>2019-05-14</td>\n",
       "      <td>1</td>\n",
       "      <td>1307</td>\n",
       "      <td>348</td>\n",
       "      <td>66</td>\n",
       "      <td>CCs Nacho Cheese    175g</td>\n",
       "      <td>3</td>\n",
       "      <td>6.3</td>\n",
       "      <td>18.9</td>\n",
       "      <td>2019</td>\n",
       "      <td>5</td>\n",
       "    </tr>\n",
       "  </tbody>\n",
       "</table>\n",
       "</div>"
      ],
      "text/plain": [
       "        DATE  STORE_NBR  LYLTY_CARD_NBR  TXN_ID  PROD_NBR  \\\n",
       "0 2018-10-17          1            1000       1         5   \n",
       "1 2019-05-14          1            1307     348        66   \n",
       "\n",
       "                                PROD_NAME  PROD_QTY  TOT_SALES  FINAL_SALES  \\\n",
       "0  Natural Chip        Compny SeaSalt175g         2        6.0         12.0   \n",
       "1                CCs Nacho Cheese    175g         3        6.3         18.9   \n",
       "\n",
       "   year  month  \n",
       "0  2018     10  \n",
       "1  2019      5  "
      ]
     },
     "execution_count": 156,
     "metadata": {},
     "output_type": "execute_result"
    }
   ],
   "source": [
    "df_transaction.head(2)"
   ]
  },
  {
   "cell_type": "code",
   "execution_count": 157,
   "id": "b9f9fcc2-6312-4c99-81b6-ce5e242f54d5",
   "metadata": {},
   "outputs": [
    {
     "name": "stderr",
     "output_type": "stream",
     "text": [
      "C:\\Users\\Hairav\\AppData\\Local\\Temp\\ipykernel_16240\\2253052664.py:2: SettingWithCopyWarning: \n",
      "A value is trying to be set on a copy of a slice from a DataFrame.\n",
      "Try using .loc[row_indexer,col_indexer] = value instead\n",
      "\n",
      "See the caveats in the documentation: https://pandas.pydata.org/pandas-docs/stable/user_guide/indexing.html#returning-a-view-versus-a-copy\n",
      "  df_transaction[\"FINAL_SALES\"]=df_transaction[\"PROD_QTY\"]*df_transaction[\"TOT_SALES\"]\n"
     ]
    }
   ],
   "source": [
    "# We need to add another column final_sales (prod_qty*tot_sales)\n",
    "df_transaction[\"FINAL_SALES\"]=df_transaction[\"PROD_QTY\"]*df_transaction[\"TOT_SALES\"]"
   ]
  },
  {
   "cell_type": "code",
   "execution_count": 158,
   "id": "bcf99f2e-e9ea-4e28-860a-76cba7c0651e",
   "metadata": {},
   "outputs": [
    {
     "data": {
      "text/html": [
       "<div>\n",
       "<style scoped>\n",
       "    .dataframe tbody tr th:only-of-type {\n",
       "        vertical-align: middle;\n",
       "    }\n",
       "\n",
       "    .dataframe tbody tr th {\n",
       "        vertical-align: top;\n",
       "    }\n",
       "\n",
       "    .dataframe thead th {\n",
       "        text-align: right;\n",
       "    }\n",
       "</style>\n",
       "<table border=\"1\" class=\"dataframe\">\n",
       "  <thead>\n",
       "    <tr style=\"text-align: right;\">\n",
       "      <th></th>\n",
       "      <th>DATE</th>\n",
       "      <th>STORE_NBR</th>\n",
       "      <th>LYLTY_CARD_NBR</th>\n",
       "      <th>TXN_ID</th>\n",
       "      <th>PROD_NBR</th>\n",
       "      <th>PROD_NAME</th>\n",
       "      <th>PROD_QTY</th>\n",
       "      <th>TOT_SALES</th>\n",
       "      <th>FINAL_SALES</th>\n",
       "      <th>year</th>\n",
       "      <th>month</th>\n",
       "    </tr>\n",
       "  </thead>\n",
       "  <tbody>\n",
       "    <tr>\n",
       "      <th>0</th>\n",
       "      <td>2018-10-17</td>\n",
       "      <td>1</td>\n",
       "      <td>1000</td>\n",
       "      <td>1</td>\n",
       "      <td>5</td>\n",
       "      <td>Natural Chip        Compny SeaSalt175g</td>\n",
       "      <td>2</td>\n",
       "      <td>6.0</td>\n",
       "      <td>12.0</td>\n",
       "      <td>2018</td>\n",
       "      <td>10</td>\n",
       "    </tr>\n",
       "    <tr>\n",
       "      <th>1</th>\n",
       "      <td>2019-05-14</td>\n",
       "      <td>1</td>\n",
       "      <td>1307</td>\n",
       "      <td>348</td>\n",
       "      <td>66</td>\n",
       "      <td>CCs Nacho Cheese    175g</td>\n",
       "      <td>3</td>\n",
       "      <td>6.3</td>\n",
       "      <td>18.9</td>\n",
       "      <td>2019</td>\n",
       "      <td>5</td>\n",
       "    </tr>\n",
       "  </tbody>\n",
       "</table>\n",
       "</div>"
      ],
      "text/plain": [
       "        DATE  STORE_NBR  LYLTY_CARD_NBR  TXN_ID  PROD_NBR  \\\n",
       "0 2018-10-17          1            1000       1         5   \n",
       "1 2019-05-14          1            1307     348        66   \n",
       "\n",
       "                                PROD_NAME  PROD_QTY  TOT_SALES  FINAL_SALES  \\\n",
       "0  Natural Chip        Compny SeaSalt175g         2        6.0         12.0   \n",
       "1                CCs Nacho Cheese    175g         3        6.3         18.9   \n",
       "\n",
       "   year  month  \n",
       "0  2018     10  \n",
       "1  2019      5  "
      ]
     },
     "execution_count": 158,
     "metadata": {},
     "output_type": "execute_result"
    }
   ],
   "source": [
    "df_transaction.head(2)"
   ]
  },
  {
   "cell_type": "code",
   "execution_count": 159,
   "id": "4a5a7600-e3fb-477e-adab-1ee40fc273e7",
   "metadata": {},
   "outputs": [],
   "source": [
    "# Checking total store\n",
    "total_store = len(df_transaction[\"STORE_NBR\"].unique())"
   ]
  },
  {
   "cell_type": "markdown",
   "id": "e9ce6227-e8b0-443d-9931-d4b53e19e5b4",
   "metadata": {},
   "source": [
    "So the total number number of store is 272"
   ]
  },
  {
   "cell_type": "code",
   "execution_count": 160,
   "id": "a9f8e9a4-67ff-4e88-9d7c-ed344071a67f",
   "metadata": {},
   "outputs": [],
   "source": [
    "# And we also want analyze sales and prod_qty based on year, So we need to add year column in transaction table"
   ]
  },
  {
   "cell_type": "code",
   "execution_count": 161,
   "id": "fc622a4f-30b8-4d35-afd3-e2490ecdbd07",
   "metadata": {},
   "outputs": [
    {
     "name": "stderr",
     "output_type": "stream",
     "text": [
      "C:\\Users\\Hairav\\AppData\\Local\\Temp\\ipykernel_16240\\4191827654.py:1: SettingWithCopyWarning: \n",
      "A value is trying to be set on a copy of a slice from a DataFrame.\n",
      "Try using .loc[row_indexer,col_indexer] = value instead\n",
      "\n",
      "See the caveats in the documentation: https://pandas.pydata.org/pandas-docs/stable/user_guide/indexing.html#returning-a-view-versus-a-copy\n",
      "  df_transaction[\"year\"]=df_transaction[\"DATE\"].dt.year\n"
     ]
    }
   ],
   "source": [
    "df_transaction[\"year\"]=df_transaction[\"DATE\"].dt.year"
   ]
  },
  {
   "cell_type": "markdown",
   "id": "f01b1a1e-9e46-4033-b14f-c17c5e3163f7",
   "metadata": {},
   "source": [
    "# First we want to analyze prod_qty, total_sales and final_Sales year wise."
   ]
  },
  {
   "cell_type": "code",
   "execution_count": 162,
   "id": "b7dfa656-bb3a-4159-9cdb-14c35e15b3bb",
   "metadata": {},
   "outputs": [],
   "source": [
    "year_product = df_transaction.groupby(\"year\")[\"PROD_QTY\"].sum()"
   ]
  },
  {
   "cell_type": "code",
   "execution_count": 163,
   "id": "3f95597a-adfd-409e-b48d-15d10f6c6b16",
   "metadata": {},
   "outputs": [
    {
     "data": {
      "text/plain": [
       "year\n",
       "2018    253480\n",
       "2019    248523\n",
       "Name: PROD_QTY, dtype: int64"
      ]
     },
     "execution_count": 163,
     "metadata": {},
     "output_type": "execute_result"
    }
   ],
   "source": [
    "year_product"
   ]
  },
  {
   "cell_type": "code",
   "execution_count": 164,
   "id": "e6a0a5d6-448b-4dda-a563-358b1f27da0a",
   "metadata": {},
   "outputs": [
    {
     "data": {
      "image/png": "[encoded data removed]",
      "text/plain": [
       "<Figure size 500x400 with 1 Axes>"
      ]
     },
     "metadata": {},
     "output_type": "display_data"
    }
   ],
   "source": [
    "plt.figure(figsize=(5,4))\n",
    "year_product.plot(kind=\"bar\",color='skyblue', edgecolor='black')\n",
    "\n",
    "plt.xlabel(\"Year\")\n",
    "plt.ylabel(\"Total Product Quantity Sold\")\n",
    "plt.title(\"Yearly Product Quantity Sales\")\n",
    "plt.xticks(rotation=0) \n",
    "plt.show()"
   ]
  },
  {
   "cell_type": "markdown",
   "id": "f7ed2207-2eff-4725-9452-e6bf87894fb4",
   "metadata": {},
   "source": [
    "# As we observe, sales in 2018 are higher compared to 2019."
   ]
  },
  {
   "cell_type": "code",
   "execution_count": 165,
   "id": "69c0e619-7bf7-40b3-bdb8-c89cc8a0414c",
   "metadata": {},
   "outputs": [
    {
     "name": "stderr",
     "output_type": "stream",
     "text": [
      "C:\\Users\\Hairav\\AppData\\Local\\Temp\\ipykernel_16240\\66855128.py:1: SettingWithCopyWarning: \n",
      "A value is trying to be set on a copy of a slice from a DataFrame.\n",
      "Try using .loc[row_indexer,col_indexer] = value instead\n",
      "\n",
      "See the caveats in the documentation: https://pandas.pydata.org/pandas-docs/stable/user_guide/indexing.html#returning-a-view-versus-a-copy\n",
      "  df_transaction[\"month\"] = df_transaction[\"DATE\"].dt.month\n"
     ]
    }
   ],
   "source": [
    "df_transaction[\"month\"] = df_transaction[\"DATE\"].dt.month"
   ]
  },
  {
   "cell_type": "markdown",
   "id": "3edb0e49-768e-4bbb-994b-ef7444fad674",
   "metadata": {},
   "source": [
    "Let's analyze the quantity of sales on a monthly basis."
   ]
  },
  {
   "cell_type": "code",
   "execution_count": 166,
   "id": "cdf77c79-3dfb-46e9-9f03-5aaf373e669a",
   "metadata": {},
   "outputs": [
    {
     "data": {
      "image/png": "[encoded data removed]",
      "text/plain": [
       "<Figure size 800x500 with 1 Axes>"
      ]
     },
     "metadata": {},
     "output_type": "display_data"
    }
   ],
   "source": [
    "month_sales=df_transaction.groupby(\"month\")[\"PROD_QTY\"].sum()\n",
    "plt.figure(figsize=(8, 5))\n",
    "month_sales.plot(kind='line', marker='o', color='blue', linestyle='-')\n",
    "\n",
    "plt.xlabel(\"Month\")\n",
    "plt.ylabel(\"Total Product Quantity Sold\")\n",
    "plt.title(\"Monthly Product Quantity Sales Trend\")\n",
    "plt.grid(True)"
   ]
  },
  {
   "cell_type": "markdown",
   "id": "bdef6855-1b31-4f4e-8a91-3b46371ae1f5",
   "metadata": {},
   "source": [
    "As we observe, the highest quantity of sales occurs in the months of March, July, October, and December."
   ]
  },
  {
   "cell_type": "markdown",
   "id": "d3081fd4-5587-49cf-807e-0a9f355b5afb",
   "metadata": {},
   "source": [
    "Now we are going to analyse total sales on a year and monthly basis."
   ]
  },
  {
   "cell_type": "code",
   "execution_count": 167,
   "id": "555782a9-9af1-429d-98f7-b35dd2efa861",
   "metadata": {},
   "outputs": [
    {
     "data": {
      "image/png": "[encoded data removed]",
      "text/plain": [
       "<Figure size 600x600 with 1 Axes>"
      ]
     },
     "metadata": {},
     "output_type": "display_data"
    }
   ],
   "source": [
    "total_sales= df_transaction.groupby(\"year\")[\"TOT_SALES\"].sum()\n",
    "plt.figure(figsize=(6, 6))\n",
    "total_sales.plot(kind='pie', autopct='%1.1f%%', startangle=90, cmap='coolwarm', shadow=True)\n",
    "plt.title(\"Total Sales Distribution by Year\")\n",
    "plt.ylabel('') \n",
    "plt.show()"
   ]
  },
  {
   "cell_type": "markdown",
   "id": "7d796b4f-c575-4c40-a762-856b4bfa710c",
   "metadata": {},
   "source": [
    "# Total sales are highest in the year 2018."
   ]
  },
  {
   "cell_type": "code",
   "execution_count": 168,
   "id": "b7bebfe0-793c-4bfc-90e4-269c7795078e",
   "metadata": {},
   "outputs": [
    {
     "data": {
      "image/png": "[encoded data removed]",
      "text/plain": [
       "<Figure size 800x500 with 1 Axes>"
      ]
     },
     "metadata": {},
     "output_type": "display_data"
    }
   ],
   "source": [
    "monthly_sales=df_transaction.groupby(\"month\")[\"TOT_SALES\"].sum()\n",
    "plt.figure(figsize=(8, 5))\n",
    "monthly_sales.plot(kind='line', marker='o', color='blue', linestyle='-')\n",
    "\n",
    "plt.xlabel(\"Month\")\n",
    "plt.ylabel(\"Total Sales\")\n",
    "plt.title(\"Monthly Sales Trend\")\n",
    "plt.grid(True)\n",
    "plt.show()"
   ]
  },
  {
   "cell_type": "code",
   "execution_count": 169,
   "id": "c3535a85-ebad-43ad-b96f-0eb90d759ccc",
   "metadata": {},
   "outputs": [
    {
     "data": {
      "text/plain": [
       "year\n",
       "2018    1895455.00\n",
       "2019    1856605.85\n",
       "Name: FINAL_SALES, dtype: float64"
      ]
     },
     "execution_count": 169,
     "metadata": {},
     "output_type": "execute_result"
    }
   ],
   "source": [
    "# Now analyse the final sales\n",
    "df_transaction.groupby(\"year\")[\"FINAL_SALES\"].sum()"
   ]
  },
  {
   "cell_type": "markdown",
   "id": "bf711ab3-c8e3-4b71-89d8-3925e08cb3cb",
   "metadata": {},
   "source": [
    "Final sales is also high in the year 2018"
   ]
  },
  {
   "cell_type": "code",
   "execution_count": 170,
   "id": "c034bc20-9299-4c9d-91d9-9054769d1297",
   "metadata": {},
   "outputs": [
    {
     "data": {
      "image/png": "[encoded data removed]",
      "text/plain": [
       "<Figure size 800x500 with 1 Axes>"
      ]
     },
     "metadata": {},
     "output_type": "display_data"
    }
   ],
   "source": [
    "monthly_final_sales= df_transaction.groupby(\"month\")[\"FINAL_SALES\"].sum()\n",
    "plt.figure(figsize=(8, 5))\n",
    "monthly_final_sales.plot(kind='line', marker='o', color='green', linestyle='-')\n",
    "plt.xlabel(\"Month\")\n",
    "plt.ylabel(\"Final Sales\")\n",
    "plt.title(\"Monthly Final Sales Trend\")\n",
    "plt.grid(True)"
   ]
  },
  {
   "cell_type": "markdown",
   "id": "7cb071cd-20b4-401e-ae9b-67eafab48d24",
   "metadata": {},
   "source": [
    "# Final sales are highest in the months of March, July, October, and December."
   ]
  },
  {
   "cell_type": "markdown",
   "id": "a1bf940c-7eab-47fa-b978-c643ab701404",
   "metadata": {},
   "source": [
    "# Checking the top five stores with the highest final sales."
   ]
  },
  {
   "cell_type": "code",
   "execution_count": 171,
   "id": "d1eb1cbc-a91f-48a6-b0a5-cd1e79c43641",
   "metadata": {},
   "outputs": [
    {
     "data": {
      "image/png": "[encoded data removed]",
      "text/plain": [
       "<Figure size 800x500 with 1 Axes>"
      ]
     },
     "metadata": {},
     "output_type": "display_data"
    }
   ],
   "source": [
    "store_sales = df_transaction.groupby(\"STORE_NBR\")[\"FINAL_SALES\"].sum().sort_values(ascending=False).head(5)\n",
    "plt.figure(figsize=(8, 5))\n",
    "store_sales.plot(kind='bar', color='orange', edgecolor='black')\n",
    "plt.xlabel(\"Store Number\")\n",
    "plt.ylabel(\"Final Sales\")\n",
    "plt.title(\"Top 5 Stores with Highest Final Sales\")\n",
    "plt.xticks(rotation=0) \n",
    "plt.show()"
   ]
  },
  {
   "cell_type": "markdown",
   "id": "937c90c3-035a-43d1-b4c2-1b8e126a43f3",
   "metadata": {},
   "source": [
    "# Store number 226 has the highest final sales, while store number 237 has the lowest final sales."
   ]
  },
  {
   "cell_type": "code",
   "execution_count": 172,
   "id": "70c87bc3-eeca-4bdd-80ad-89e5fe2ff779",
   "metadata": {},
   "outputs": [
    {
     "data": {
      "text/plain": [
       "STORE_NBR\n",
       "92     18.400000\n",
       "26     17.520953\n",
       "40     17.512045\n",
       "96     17.511765\n",
       "217    17.509229\n",
       "Name: FINAL_SALES, dtype: float64"
      ]
     },
     "execution_count": 172,
     "metadata": {},
     "output_type": "execute_result"
    }
   ],
   "source": [
    "# Average final sales store wise\n",
    "avg_store_sales = df_transaction.groupby(\"STORE_NBR\")[\"FINAL_SALES\"].mean().sort_values(ascending=False).head(5)\n",
    "avg_store_sales"
   ]
  },
  {
   "cell_type": "markdown",
   "id": "a9cb68ea-8a80-4271-bbe8-8fdd7072ba66",
   "metadata": {},
   "source": [
    "The average final sales for the top five stores (92, 217, 25, 235, and 40) are high."
   ]
  },
  {
   "cell_type": "markdown",
   "id": "159ae98b-db29-4446-b584-0ef79951d45a",
   "metadata": {},
   "source": [
    "# Let's analyze the top five products with the highest final sales."
   ]
  },
  {
   "cell_type": "code",
   "execution_count": 173,
   "id": "01e45419-9c1b-42fa-85d8-17787008f343",
   "metadata": {},
   "outputs": [],
   "source": [
    "top_product = df_transaction.groupby(\"PROD_NAME\")[\"FINAL_SALES\"].sum().sort_values(ascending=False).head(5)"
   ]
  },
  {
   "cell_type": "code",
   "execution_count": 174,
   "id": "5914feb6-2dda-49e2-b1dd-38b1387b6493",
   "metadata": {},
   "outputs": [
    {
     "data": {
      "image/png": "[encoded data removed]",
      "text/plain": [
       "<Figure size 800x500 with 1 Axes>"
      ]
     },
     "metadata": {},
     "output_type": "display_data"
    }
   ],
   "source": [
    "plt.figure(figsize=(8, 5))\n",
    "top_product.plot(kind='bar', color='purple', edgecolor='black')\n",
    "plt.xlabel(\"Product Name\")\n",
    "plt.ylabel(\"Final Sales\")\n",
    "plt.title(\"Top 5 Products with Highest Final Sales\")\n",
    "plt.xticks(rotation=45, ha='right')\n",
    "plt.show()"
   ]
  },
  {
   "cell_type": "markdown",
   "id": "e45f621f-0fd6-4559-920e-71ef2fdfe6cb",
   "metadata": {},
   "source": [
    "# Now, we want to analyze final sales based on customer-wise data."
   ]
  },
  {
   "cell_type": "code",
   "execution_count": 181,
   "id": "17b70103-eee0-49f2-8110-00831873e686",
   "metadata": {},
   "outputs": [],
   "source": [
    "# Now we need to join trnasaction ans purchase table\n",
    "new_table= pd.merge(df_transaction,df_purchase,on=\"LYLTY_CARD_NBR\")\n"
   ]
  },
  {
   "cell_type": "code",
   "execution_count": 191,
   "id": "2aa0424e-f0de-4112-9209-3ed023516b4a",
   "metadata": {},
   "outputs": [
    {
     "data": {
      "image/png": "[encoded data removed]",
      "text/plain": [
       "<Figure size 600x600 with 1 Axes>"
      ]
     },
     "metadata": {},
     "output_type": "display_data"
    }
   ],
   "source": [
    "customer_wise_sales= new_table.groupby(\"PREMIUM_CUSTOMER\")[\"FINAL_SALES\"].sum()\n",
    "plt.figure(figsize=(6, 6))\n",
    "customer_wise_sales.plot(kind='pie', autopct='%1.1f%%', startangle=90, cmap='coolwarm', shadow=True)\n",
    "plt.title(\"Final Sales Distribution by Customer Type\")\n",
    "plt.ylabel('')\n",
    "plt.show()"
   ]
  },
  {
   "cell_type": "markdown",
   "id": "2a9f5699-a11d-4687-8c57-547b83950ffe",
   "metadata": {},
   "source": [
    "# The final sales in the mainstream customer segment are higher compared to other segments."
   ]
  },
  {
   "cell_type": "code",
   "execution_count": 192,
   "id": "4267f843-e2ff-44e4-8c69-adf39684c98d",
   "metadata": {},
   "outputs": [
    {
     "data": {
      "text/html": [
       "<div>\n",
       "<style scoped>\n",
       "    .dataframe tbody tr th:only-of-type {\n",
       "        vertical-align: middle;\n",
       "    }\n",
       "\n",
       "    .dataframe tbody tr th {\n",
       "        vertical-align: top;\n",
       "    }\n",
       "\n",
       "    .dataframe thead th {\n",
       "        text-align: right;\n",
       "    }\n",
       "</style>\n",
       "<table border=\"1\" class=\"dataframe\">\n",
       "  <thead>\n",
       "    <tr style=\"text-align: right;\">\n",
       "      <th></th>\n",
       "      <th>DATE</th>\n",
       "      <th>STORE_NBR</th>\n",
       "      <th>LYLTY_CARD_NBR</th>\n",
       "      <th>TXN_ID</th>\n",
       "      <th>PROD_NBR</th>\n",
       "      <th>PROD_NAME</th>\n",
       "      <th>PROD_QTY</th>\n",
       "      <th>TOT_SALES</th>\n",
       "      <th>FINAL_SALES</th>\n",
       "      <th>year</th>\n",
       "      <th>month</th>\n",
       "      <th>LIFESTAGE</th>\n",
       "      <th>PREMIUM_CUSTOMER</th>\n",
       "    </tr>\n",
       "  </thead>\n",
       "  <tbody>\n",
       "    <tr>\n",
       "      <th>0</th>\n",
       "      <td>2018-10-17</td>\n",
       "      <td>1</td>\n",
       "      <td>1000</td>\n",
       "      <td>1</td>\n",
       "      <td>5</td>\n",
       "      <td>Natural Chip        Compny SeaSalt175g</td>\n",
       "      <td>2</td>\n",
       "      <td>6.0</td>\n",
       "      <td>12.0</td>\n",
       "      <td>2018</td>\n",
       "      <td>10</td>\n",
       "      <td>YOUNG SINGLES/COUPLES</td>\n",
       "      <td>Premium</td>\n",
       "    </tr>\n",
       "    <tr>\n",
       "      <th>1</th>\n",
       "      <td>2019-05-14</td>\n",
       "      <td>1</td>\n",
       "      <td>1307</td>\n",
       "      <td>348</td>\n",
       "      <td>66</td>\n",
       "      <td>CCs Nacho Cheese    175g</td>\n",
       "      <td>3</td>\n",
       "      <td>6.3</td>\n",
       "      <td>18.9</td>\n",
       "      <td>2019</td>\n",
       "      <td>5</td>\n",
       "      <td>MIDAGE SINGLES/COUPLES</td>\n",
       "      <td>Budget</td>\n",
       "    </tr>\n",
       "    <tr>\n",
       "      <th>2</th>\n",
       "      <td>2018-11-10</td>\n",
       "      <td>1</td>\n",
       "      <td>1307</td>\n",
       "      <td>346</td>\n",
       "      <td>96</td>\n",
       "      <td>WW Original Stacked Chips 160g</td>\n",
       "      <td>2</td>\n",
       "      <td>3.8</td>\n",
       "      <td>7.6</td>\n",
       "      <td>2018</td>\n",
       "      <td>11</td>\n",
       "      <td>MIDAGE SINGLES/COUPLES</td>\n",
       "      <td>Budget</td>\n",
       "    </tr>\n",
       "    <tr>\n",
       "      <th>3</th>\n",
       "      <td>2019-03-09</td>\n",
       "      <td>1</td>\n",
       "      <td>1307</td>\n",
       "      <td>347</td>\n",
       "      <td>54</td>\n",
       "      <td>CCs Original 175g</td>\n",
       "      <td>1</td>\n",
       "      <td>2.1</td>\n",
       "      <td>2.1</td>\n",
       "      <td>2019</td>\n",
       "      <td>3</td>\n",
       "      <td>MIDAGE SINGLES/COUPLES</td>\n",
       "      <td>Budget</td>\n",
       "    </tr>\n",
       "    <tr>\n",
       "      <th>4</th>\n",
       "      <td>2019-05-20</td>\n",
       "      <td>1</td>\n",
       "      <td>1343</td>\n",
       "      <td>383</td>\n",
       "      <td>61</td>\n",
       "      <td>Smiths Crinkle Cut  Chips Chicken 170g</td>\n",
       "      <td>2</td>\n",
       "      <td>2.9</td>\n",
       "      <td>5.8</td>\n",
       "      <td>2019</td>\n",
       "      <td>5</td>\n",
       "      <td>MIDAGE SINGLES/COUPLES</td>\n",
       "      <td>Budget</td>\n",
       "    </tr>\n",
       "    <tr>\n",
       "      <th>...</th>\n",
       "      <td>...</td>\n",
       "      <td>...</td>\n",
       "      <td>...</td>\n",
       "      <td>...</td>\n",
       "      <td>...</td>\n",
       "      <td>...</td>\n",
       "      <td>...</td>\n",
       "      <td>...</td>\n",
       "      <td>...</td>\n",
       "      <td>...</td>\n",
       "      <td>...</td>\n",
       "      <td>...</td>\n",
       "      <td>...</td>\n",
       "    </tr>\n",
       "    <tr>\n",
       "      <th>264213</th>\n",
       "      <td>2019-03-09</td>\n",
       "      <td>272</td>\n",
       "      <td>272319</td>\n",
       "      <td>270088</td>\n",
       "      <td>89</td>\n",
       "      <td>Kettle Sweet Chilli And Sour Cream 175g</td>\n",
       "      <td>2</td>\n",
       "      <td>10.8</td>\n",
       "      <td>21.6</td>\n",
       "      <td>2019</td>\n",
       "      <td>3</td>\n",
       "      <td>YOUNG SINGLES/COUPLES</td>\n",
       "      <td>Premium</td>\n",
       "    </tr>\n",
       "    <tr>\n",
       "      <th>264214</th>\n",
       "      <td>2018-08-13</td>\n",
       "      <td>272</td>\n",
       "      <td>272358</td>\n",
       "      <td>270154</td>\n",
       "      <td>74</td>\n",
       "      <td>Tostitos Splash Of  Lime 175g</td>\n",
       "      <td>1</td>\n",
       "      <td>4.4</td>\n",
       "      <td>4.4</td>\n",
       "      <td>2018</td>\n",
       "      <td>8</td>\n",
       "      <td>YOUNG SINGLES/COUPLES</td>\n",
       "      <td>Premium</td>\n",
       "    </tr>\n",
       "    <tr>\n",
       "      <th>264215</th>\n",
       "      <td>2018-11-06</td>\n",
       "      <td>272</td>\n",
       "      <td>272379</td>\n",
       "      <td>270187</td>\n",
       "      <td>51</td>\n",
       "      <td>Doritos Mexicana    170g</td>\n",
       "      <td>2</td>\n",
       "      <td>8.8</td>\n",
       "      <td>17.6</td>\n",
       "      <td>2018</td>\n",
       "      <td>11</td>\n",
       "      <td>YOUNG SINGLES/COUPLES</td>\n",
       "      <td>Premium</td>\n",
       "    </tr>\n",
       "    <tr>\n",
       "      <th>264216</th>\n",
       "      <td>2018-12-27</td>\n",
       "      <td>272</td>\n",
       "      <td>272379</td>\n",
       "      <td>270188</td>\n",
       "      <td>42</td>\n",
       "      <td>Doritos Corn Chip Mexican Jalapeno 150g</td>\n",
       "      <td>2</td>\n",
       "      <td>7.8</td>\n",
       "      <td>15.6</td>\n",
       "      <td>2018</td>\n",
       "      <td>12</td>\n",
       "      <td>YOUNG SINGLES/COUPLES</td>\n",
       "      <td>Premium</td>\n",
       "    </tr>\n",
       "    <tr>\n",
       "      <th>264217</th>\n",
       "      <td>2018-09-22</td>\n",
       "      <td>272</td>\n",
       "      <td>272380</td>\n",
       "      <td>270189</td>\n",
       "      <td>74</td>\n",
       "      <td>Tostitos Splash Of  Lime 175g</td>\n",
       "      <td>2</td>\n",
       "      <td>8.8</td>\n",
       "      <td>17.6</td>\n",
       "      <td>2018</td>\n",
       "      <td>9</td>\n",
       "      <td>YOUNG SINGLES/COUPLES</td>\n",
       "      <td>Premium</td>\n",
       "    </tr>\n",
       "  </tbody>\n",
       "</table>\n",
       "<p>264218 rows × 13 columns</p>\n",
       "</div>"
      ],
      "text/plain": [
       "             DATE  STORE_NBR  LYLTY_CARD_NBR  TXN_ID  PROD_NBR  \\\n",
       "0      2018-10-17          1            1000       1         5   \n",
       "1      2019-05-14          1            1307     348        66   \n",
       "2      2018-11-10          1            1307     346        96   \n",
       "3      2019-03-09          1            1307     347        54   \n",
       "4      2019-05-20          1            1343     383        61   \n",
       "...           ...        ...             ...     ...       ...   \n",
       "264213 2019-03-09        272          272319  270088        89   \n",
       "264214 2018-08-13        272          272358  270154        74   \n",
       "264215 2018-11-06        272          272379  270187        51   \n",
       "264216 2018-12-27        272          272379  270188        42   \n",
       "264217 2018-09-22        272          272380  270189        74   \n",
       "\n",
       "                                      PROD_NAME  PROD_QTY  TOT_SALES  \\\n",
       "0        Natural Chip        Compny SeaSalt175g         2        6.0   \n",
       "1                      CCs Nacho Cheese    175g         3        6.3   \n",
       "2                WW Original Stacked Chips 160g         2        3.8   \n",
       "3                             CCs Original 175g         1        2.1   \n",
       "4        Smiths Crinkle Cut  Chips Chicken 170g         2        2.9   \n",
       "...                                         ...       ...        ...   \n",
       "264213  Kettle Sweet Chilli And Sour Cream 175g         2       10.8   \n",
       "264214            Tostitos Splash Of  Lime 175g         1        4.4   \n",
       "264215                 Doritos Mexicana    170g         2        8.8   \n",
       "264216  Doritos Corn Chip Mexican Jalapeno 150g         2        7.8   \n",
       "264217            Tostitos Splash Of  Lime 175g         2        8.8   \n",
       "\n",
       "        FINAL_SALES  year  month               LIFESTAGE PREMIUM_CUSTOMER  \n",
       "0              12.0  2018     10   YOUNG SINGLES/COUPLES          Premium  \n",
       "1              18.9  2019      5  MIDAGE SINGLES/COUPLES           Budget  \n",
       "2               7.6  2018     11  MIDAGE SINGLES/COUPLES           Budget  \n",
       "3               2.1  2019      3  MIDAGE SINGLES/COUPLES           Budget  \n",
       "4               5.8  2019      5  MIDAGE SINGLES/COUPLES           Budget  \n",
       "...             ...   ...    ...                     ...              ...  \n",
       "264213         21.6  2019      3   YOUNG SINGLES/COUPLES          Premium  \n",
       "264214          4.4  2018      8   YOUNG SINGLES/COUPLES          Premium  \n",
       "264215         17.6  2018     11   YOUNG SINGLES/COUPLES          Premium  \n",
       "264216         15.6  2018     12   YOUNG SINGLES/COUPLES          Premium  \n",
       "264217         17.6  2018      9   YOUNG SINGLES/COUPLES          Premium  \n",
       "\n",
       "[264218 rows x 13 columns]"
      ]
     },
     "execution_count": 192,
     "metadata": {},
     "output_type": "execute_result"
    }
   ],
   "source": [
    "new_table"
   ]
  },
  {
   "cell_type": "code",
   "execution_count": null,
   "id": "7c1cabce-522a-401b-96d4-19552855bca4",
   "metadata": {},
   "outputs": [],
   "source": [
    "# Average final sales"
   ]
  },
  {
   "cell_type": "code",
   "execution_count": 194,
   "id": "4e5c3d79-4e34-4555-9caf-3b8fb49a0f24",
   "metadata": {},
   "outputs": [
    {
     "data": {
      "image/png": "[encoded data removed]",
      "text/plain": [
       "<Figure size 600x600 with 1 Axes>"
      ]
     },
     "metadata": {},
     "output_type": "display_data"
    }
   ],
   "source": [
    "customer_wise_avg_sales= new_table.groupby(\"PREMIUM_CUSTOMER\")[\"FINAL_SALES\"].mean()\n",
    "plt.figure(figsize=(6, 6))\n",
    "customer_wise_sales.plot(kind='pie', autopct='%1.1f%%', startangle=90, cmap='coolwarm', shadow=True)\n",
    "plt.title(\"Final Avg Sales Distribution by Customer Type\")\n",
    "plt.ylabel('')\n",
    "plt.show()"
   ]
  },
  {
   "cell_type": "code",
   "execution_count": null,
   "id": "4ed35ef8-d2fb-4d9d-801a-b215e07a3a64",
   "metadata": {},
   "outputs": [],
   "source": []
  }
 ],
 "metadata": {
  "kernelspec": {
   "display_name": "Python 3 (ipykernel)",
   "language": "python",
   "name": "python3"
  },
  "language_info": {
   "codemirror_mode": {
    "name": "ipython",
    "version": 3
   },
   "file_extension": ".py",
   "mimetype": "text/x-python",
   "name": "python",
   "nbconvert_exporter": "python",
   "pygments_lexer": "ipython3",
   "version": "3.11.7"
  }
 },
 "nbformat": 4,
 "nbformat_minor": 5
}
